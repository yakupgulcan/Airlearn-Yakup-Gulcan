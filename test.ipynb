{
 "cells": [
  {
   "cell_type": "code",
   "execution_count": null,
   "id": "d7dc37fe-8f25-4d98-8b7d-c7e422c527b0",
   "metadata": {},
   "outputs": [],
   "source": [
    "import pandas as pd\n",
    "import numpy as np\n",
    "import seaborn as sns"
   ]
  },
  {
   "cell_type": "code",
   "execution_count": null,
   "metadata": {},
   "outputs": [],
   "source": [
    "df = sns.load_dataset('planets')"
   ]
  },
  {
   "cell_type": "markdown",
   "metadata": {},
   "source": [
    "### Print/ Display the first 5 rows of dataframe"
   ]
  },
  {
   "cell_type": "code",
   "execution_count": null,
   "id": "f57c2abf-fa5a-4b72-953f-3e63422dcdde",
   "metadata": {},
   "outputs": [],
   "source": [
    "print(df.head(5))"
   ]
  },
  {
   "cell_type": "markdown",
   "metadata": {},
   "source": [
    "### Print/ Display the last 5 rows of dataframe"
   ]
  },
  {
   "cell_type": "code",
   "execution_count": null,
   "id": "4c27adad-ccd9-4871-8d81-dcc11c742dae",
   "metadata": {},
   "outputs": [],
   "source": [
    "print(df.tail(5))"
   ]
  },
  {
   "cell_type": "markdown",
   "metadata": {},
   "source": [
    "### How many unique methods are there?"
   ]
  },
  {
   "cell_type": "markdown",
   "metadata": {},
   "source": [
    "# your code here\n"
   ]
  },
  {
   "cell_type": "markdown",
   "metadata": {},
   "source": [
    "### What is the number of data collected in each year?"
   ]
  },
  {
   "cell_type": "code",
   "execution_count": null,
   "metadata": {},
   "outputs": [],
   "source": [
    "# your code here\n",
    "yillikVeri = df['year'].value_counts()\n",
    "print(yillikVeri)\n"
   ]
  },
  {
   "cell_type": "markdown",
   "metadata": {},
   "source": [
    "### Which columns have missing values and how many?"
   ]
  },
  {
   "cell_type": "code",
   "execution_count": null,
   "metadata": {},
   "outputs": [],
   "source": [
    "missedData = df.isnull().sum()\n",
    "print(missedData[missedData > 0])\n"
   ]
  },
  {
   "cell_type": "markdown",
   "metadata": {},
   "source": [
    "### Write docstring for the function below."
   ]
  },
  {
   "cell_type": "code",
   "execution_count": 7,
   "metadata": {},
   "outputs": [],
   "source": [
    "def do_something(x, y, z):\n",
    "    \"\"\"\n",
    "    \n",
    " verilen sayıların çarpmaya göre tersini hesaplar, ardından bunları toplar ve çarpmaya göre terslerinin toplamını bulur.\n",
    "\n",
    "    \"\"\"     \n",
    "\n",
    "    result = 1 / x + 1 / y + 1 / z\n",
    "\n",
    "    return 1 / result"
   ]
  },
  {
   "cell_type": "markdown",
   "metadata": {},
   "source": [
    "### Get (print) the docstring of the function defined above."
   ]
  },
  {
   "cell_type": "code",
   "execution_count": null,
   "metadata": {},
   "outputs": [],
   "source": [
    "print(do_something.__doc__)"
   ]
  },
  {
   "cell_type": "markdown",
   "metadata": {},
   "source": [
    "### Call do_something function for the (11,13,15) values and save it as result"
   ]
  },
  {
   "cell_type": "code",
   "execution_count": null,
   "metadata": {},
   "outputs": [],
   "source": [
    "result = do_something(11,13,15)\n",
    "print(result)"
   ]
  },
  {
   "cell_type": "markdown",
   "metadata": {},
   "source": [
    "### In the variable 's' containing a sentence, extract the word using result defined above as index"
   ]
  },
  {
   "cell_type": "code",
   "execution_count": 8,
   "metadata": {},
   "outputs": [],
   "source": [
    "s = \"I love Machine Learning and Deep Learning\"\n",
    "\n",
    "# use int() to convert the result to integer\n",
    "# your code here\n",
    "res = int(res)\n",
    "words = s.split()\n",
    "extractedWord = words[res-1]\n",
    "print(extractedWord)"
   ]
  },
  {
   "cell_type": "markdown",
   "metadata": {},
   "source": [
    "### Sort the given array below, do not use built in functions. All sorting methods are allowed."
   ]
  },
  {
   "cell_type": "code",
   "execution_count": 5,
   "metadata": {},
   "outputs": [],
   "source": [
    "import random\n",
    "\n",
    "arr = [random.randint(1, 100) for i in range(10)]\n",
    "\n",
    "l = len(arr)\n",
    "for i in range(l):\n",
    "    for j in range(0, l - i - 1):\n",
    "        if arr[j] > arr[j + 1]:\n",
    "             arr[j], arr[j + 1] = arr[j + 1], arr[j]\n",
    "print(arr)"
   ]
  },
  {
   "cell_type": "markdown",
   "metadata": {},
   "source": [
    "### define a recursive function to calculate input numbers factorial named factorial"
   ]
  },
  {
   "cell_type": "code",
   "execution_count": null,
   "metadata": {},
   "outputs": [],
   "source": [
    "def factorial(x):\n",
    "    if x == 0 or x == 1:\n",
    "        return 1\n",
    "    else:\n",
    "        factor = 1\n",
    "        for i in range(2, x + 1):\n",
    "            factor *= i\n",
    "        return factor"
   ]
  },
  {
   "cell_type": "markdown",
   "metadata": {},
   "source": [
    "### define a function to merge the given arrays and calculate the median named twoMedian"
   ]
  },
  {
   "cell_type": "code",
   "execution_count": 4,
   "metadata": {},
   "outputs": [],
   "source": [
    "def twoMedian(arr1, arr2):\n",
    "    order = sort(arr1 + arr2) \n",
    "\n",
    "    num = len(merged)\n",
    "    \n",
    "    \n",
    "    if num % 2 != 0:\n",
    "    \n",
    "        median = order[length // 2]\n",
    "    \n",
    "    median = (order[num // 2 - 1] + order[num // 2]) / 2"
   ]
  }
 ],
 "metadata": {
  "kernelspec": {
   "display_name": "Python 3 (ipykernel)",
   "language": "python",
   "name": "python3"
  },
  "language_info": {
   "codemirror_mode": {
    "name": "ipython",
    "version": 3
   },
   "file_extension": ".py",
   "mimetype": "text/x-python",
   "name": "python",
   "nbconvert_exporter": "python",
   "pygments_lexer": "ipython3",
   "version": "3.12.0"
  }
 },
 "nbformat": 4,
 "nbformat_minor": 5
}
